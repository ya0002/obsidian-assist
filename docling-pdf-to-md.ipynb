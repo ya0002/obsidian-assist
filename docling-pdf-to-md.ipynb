{
 "cells": [
  {
   "cell_type": "code",
   "execution_count": null,
   "id": "d489645f",
   "metadata": {
    "execution": {
     "iopub.execute_input": "2025-03-02T18:02:46.001613Z",
     "iopub.status.busy": "2025-03-02T18:02:46.001346Z",
     "iopub.status.idle": "2025-03-02T18:02:54.815326Z",
     "shell.execute_reply": "2025-03-02T18:02:54.814345Z"
    },
    "papermill": {
     "duration": 8.819585,
     "end_time": "2025-03-02T18:02:54.816984",
     "exception": false,
     "start_time": "2025-03-02T18:02:45.997399",
     "status": "completed"
    },
    "tags": []
   },
   "outputs": [],
   "source": [
    "! pip install --quiet docling"
   ]
  },
  {
   "cell_type": "code",
   "execution_count": null,
   "id": "26a0210c",
   "metadata": {
    "execution": {
     "iopub.execute_input": "2025-03-02T18:02:54.825121Z",
     "iopub.status.busy": "2025-03-02T18:02:54.824895Z",
     "iopub.status.idle": "2025-03-02T18:03:10.057292Z",
     "shell.execute_reply": "2025-03-02T18:03:10.056417Z"
    },
    "papermill": {
     "duration": 15.238401,
     "end_time": "2025-03-02T18:03:10.059284",
     "exception": false,
     "start_time": "2025-03-02T18:02:54.820883",
     "status": "completed"
    },
    "tags": []
   },
   "outputs": [],
   "source": [
    "import os\n",
    "\n",
    "import logging\n",
    "import time\n",
    "from pathlib import Path\n",
    "\n",
    "from docling_core.types.doc import ImageRefMode, PictureItem, TableItem\n",
    "from docling.datamodel.base_models import FigureElement, InputFormat, Table\n",
    "from docling.datamodel.pipeline_options import PdfPipelineOptions\n",
    "from docling.document_converter import DocumentConverter, PdfFormatOption\n",
    "\n",
    "\n",
    "from docling.backend.pypdfium2_backend import PyPdfiumDocumentBackend\n"
   ]
  },
  {
   "cell_type": "code",
   "execution_count": null,
   "id": "98bcae0f",
   "metadata": {
    "execution": {
     "iopub.execute_input": "2025-03-02T18:03:10.072249Z",
     "iopub.status.busy": "2025-03-02T18:03:10.071749Z",
     "iopub.status.idle": "2025-03-02T18:03:10.078695Z",
     "shell.execute_reply": "2025-03-02T18:03:10.077910Z"
    },
    "papermill": {
     "duration": 0.014381,
     "end_time": "2025-03-02T18:03:10.079921",
     "exception": false,
     "start_time": "2025-03-02T18:03:10.065540",
     "status": "completed"
    },
    "tags": []
   },
   "outputs": [],
   "source": [
    "IMAGE_RESOLUTION_SCALE = 2.0\n",
    "\n",
    "pipeline_options = PdfPipelineOptions()\n",
    "pipeline_options.images_scale = IMAGE_RESOLUTION_SCALE\n",
    "pipeline_options.generate_page_images = True\n",
    "pipeline_options.generate_picture_images = True\n",
    "\n",
    "\n",
    "def convert_doc_to_markdown(source,default_backend = True):\n",
    "    '''read PDF and convert to MD with embedded images'''\n",
    "\n",
    "    print(f'Processing: {source}')\n",
    "    input_doc_path = Path(source)\n",
    "    # output_dir = Path(save_root)\n",
    "\n",
    "    if default_backend:\n",
    "        doc_converter = DocumentConverter(\n",
    "            format_options={\n",
    "                InputFormat.PDF: PdfFormatOption(pipeline_options=pipeline_options)\n",
    "            }\n",
    "        )\n",
    "    else:\n",
    "         doc_converter = DocumentConverter(\n",
    "                    format_options={\n",
    "                        InputFormat.PDF: PdfFormatOption(pipeline_options=pipeline_options\n",
    "                                                        ,backend=PyPdfiumDocumentBackend ## defaults to dlpparse_v2\n",
    "                                                        )\n",
    "                    }\n",
    "                )\n",
    "\n",
    "    start_time = time.time()\n",
    "\n",
    "    conv_res = doc_converter.convert(input_doc_path)\n",
    "\n",
    "    # output_dir.mkdir(parents=True, exist_ok=True)\n",
    "    # doc_filename = conv_res.input.file.stem\n",
    "\n",
    "    end_time = time.time()\n",
    "\n",
    "    print('DUMPING MD')\n",
    "    md_dump = conv_res.document.export_to_markdown(image_mode=ImageRefMode.EMBEDDED)\n",
    "\n",
    "    print('SAVING MD')\n",
    "    # Save markdown with embedded pictures\n",
    "    doc_filename = os.path.basename(source).replace(\".pdf\",\"\")\n",
    "    md_filename = os.path.join('/kaggle/working/',f\"{doc_filename}.md\")\n",
    "    # conv_res.document.save_as_markdown(md_filename, image_mode=ImageRefMode.EMBEDDED) ## doesnt work, gives the 'suffix' issue\n",
    "    \n",
    "    with open(md_filename, \"w\", encoding=\"utf-8\") as markdown_file:\n",
    "        markdown_file.write(md_dump)\n",
    "\n",
    "    print(f'TIME TAKEN to convert doc to MD: {end_time - start_time}')\n",
    "\n",
    "    return md_dump"
   ]
  },
  {
   "cell_type": "markdown",
   "id": "33c979b0",
   "metadata": {
    "papermill": {
     "duration": 0.003183,
     "end_time": "2025-03-02T18:03:10.086348",
     "exception": false,
     "start_time": "2025-03-02T18:03:10.083165",
     "status": "completed"
    },
    "tags": []
   },
   "source": [
    "# convert whole dir of PDF to MD"
   ]
  },
  {
   "cell_type": "code",
   "execution_count": null,
   "id": "453b7097",
   "metadata": {
    "execution": {
     "iopub.execute_input": "2025-03-02T18:03:10.093438Z",
     "iopub.status.busy": "2025-03-02T18:03:10.093231Z",
     "iopub.status.idle": "2025-03-02T18:22:15.519413Z",
     "shell.execute_reply": "2025-03-02T18:22:15.518549Z"
    },
    "papermill": {
     "duration": 1145.435216,
     "end_time": "2025-03-02T18:22:15.524732",
     "exception": false,
     "start_time": "2025-03-02T18:03:10.089516",
     "status": "completed"
    },
    "tags": []
   },
   "outputs": [],
   "source": [
    "root_dir = '/kaggle/input/dir'\n",
    "for source in [os.path.join(root_dir,i) for i in os.listdir(root_dir)]:\n",
    "    try:\n",
    "        md_content = convert_doc_to_markdown(source)\n",
    "    except Exception as e:\n",
    "        print(f'Error with default for {source}:\\n{e} trying the second method')\n",
    "        try:\n",
    "            md_content = convert_doc_to_markdown(source,\n",
    "                                         default_backend=False\n",
    "                                        )\n",
    "        except Exception as e:\n",
    "            print(f'Error with second method as well:\\n{e} skipping.')"
   ]
  },
  {
   "cell_type": "code",
   "execution_count": null,
   "id": "f0caf1a9",
   "metadata": {
    "execution": {
     "iopub.execute_input": "2025-03-02T18:22:15.534589Z",
     "iopub.status.busy": "2025-03-02T18:22:15.534304Z",
     "iopub.status.idle": "2025-03-02T18:22:15.539729Z",
     "shell.execute_reply": "2025-03-02T18:22:15.538471Z"
    },
    "papermill": {
     "duration": 0.012207,
     "end_time": "2025-03-02T18:22:15.540915",
     "exception": true,
     "start_time": "2025-03-02T18:22:15.528708",
     "status": "failed"
    },
    "tags": []
   },
   "outputs": [],
   "source": [
    "import sys\n",
    "sys.exit(0)"
   ]
  },
  {
   "cell_type": "markdown",
   "id": "9417b6e1",
   "metadata": {
    "papermill": {
     "duration": null,
     "end_time": null,
     "exception": null,
     "start_time": null,
     "status": "pending"
    },
    "tags": []
   },
   "source": [
    "# single PDF to MD"
   ]
  },
  {
   "cell_type": "code",
   "execution_count": null,
   "id": "c94cd033",
   "metadata": {
    "execution": {
     "iopub.execute_input": "2025-01-04T14:29:56.646512Z",
     "iopub.status.busy": "2025-01-04T14:29:56.646198Z",
     "iopub.status.idle": "2025-01-04T14:33:27.545866Z",
     "shell.execute_reply": "2025-01-04T14:33:27.545108Z",
     "shell.execute_reply.started": "2025-01-04T14:29:56.646487Z"
    },
    "papermill": {
     "duration": null,
     "end_time": null,
     "exception": null,
     "start_time": null,
     "status": "pending"
    },
    "tags": []
   },
   "outputs": [],
   "source": [
    "source = \"/kaggle/input/something.pdf\"\n",
    "md_content = convert_doc_to_markdown(source,\n",
    "                                     # default_backend=False\n",
    "                                    )"
   ]
  },
  {
   "cell_type": "code",
   "execution_count": null,
   "id": "d5bd5e62",
   "metadata": {
    "execution": {
     "iopub.execute_input": "2024-12-27T13:59:23.921026Z",
     "iopub.status.busy": "2024-12-27T13:59:23.920710Z",
     "iopub.status.idle": "2024-12-27T13:59:23.938274Z",
     "shell.execute_reply": "2024-12-27T13:59:23.937350Z",
     "shell.execute_reply.started": "2024-12-27T13:59:23.921002Z"
    },
    "papermill": {
     "duration": null,
     "end_time": null,
     "exception": null,
     "start_time": null,
     "status": "pending"
    },
    "tags": []
   },
   "outputs": [],
   "source": [
    "sanitized_stem = 'dummy'\n",
    "f\"{sanitized_stem}_{len(os.listdir('/kaggle/input/maths-books'))}\""
   ]
  },
  {
   "cell_type": "code",
   "execution_count": null,
   "id": "362c1d40",
   "metadata": {
    "execution": {
     "iopub.execute_input": "2024-12-27T14:05:16.774329Z",
     "iopub.status.busy": "2024-12-27T14:05:16.774129Z",
     "iopub.status.idle": "2024-12-27T14:05:16.790490Z",
     "shell.execute_reply": "2024-12-27T14:05:16.789778Z",
     "shell.execute_reply.started": "2024-12-27T14:05:16.774312Z"
    },
    "papermill": {
     "duration": null,
     "end_time": null,
     "exception": null,
     "start_time": null,
     "status": "pending"
    },
    "tags": []
   },
   "outputs": [],
   "source": [
    "'somethunig.md'[-3:]"
   ]
  },
  {
   "cell_type": "code",
   "execution_count": null,
   "id": "53479652",
   "metadata": {
    "papermill": {
     "duration": null,
     "end_time": null,
     "exception": null,
     "start_time": null,
     "status": "pending"
    },
    "tags": []
   },
   "outputs": [],
   "source": []
  }
 ],
 "metadata": {
  "kaggle": {
   "accelerator": "nvidiaTeslaT4",
   "dataSources": [
    {
     "datasetId": 4539346,
     "sourceId": 7761561,
     "sourceType": "datasetVersion"
    },
    {
     "datasetId": 4606965,
     "sourceId": 7854857,
     "sourceType": "datasetVersion"
    },
    {
     "datasetId": 4607000,
     "sourceId": 7854903,
     "sourceType": "datasetVersion"
    },
    {
     "datasetId": 4746027,
     "sourceId": 8048326,
     "sourceType": "datasetVersion"
    },
    {
     "datasetId": 6383593,
     "sourceId": 10311869,
     "sourceType": "datasetVersion"
    },
    {
     "datasetId": 6391146,
     "sourceId": 10322486,
     "sourceType": "datasetVersion"
    },
    {
     "datasetId": 6402894,
     "sourceId": 10340264,
     "sourceType": "datasetVersion"
    },
    {
     "datasetId": 6407793,
     "sourceId": 10348029,
     "sourceType": "datasetVersion"
    },
    {
     "datasetId": 6423029,
     "sourceId": 10369696,
     "sourceType": "datasetVersion"
    },
    {
     "datasetId": 6423059,
     "sourceId": 10369727,
     "sourceType": "datasetVersion"
    },
    {
     "datasetId": 6424251,
     "sourceId": 10371334,
     "sourceType": "datasetVersion"
    },
    {
     "datasetId": 6462881,
     "sourceId": 10441687,
     "sourceType": "datasetVersion"
    },
    {
     "datasetId": 6467207,
     "sourceId": 10448160,
     "sourceType": "datasetVersion"
    },
    {
     "datasetId": 6477703,
     "sourceId": 10462812,
     "sourceType": "datasetVersion"
    },
    {
     "datasetId": 6558838,
     "sourceId": 10596612,
     "sourceType": "datasetVersion"
    },
    {
     "datasetId": 6774303,
     "sourceId": 10900069,
     "sourceType": "datasetVersion"
    }
   ],
   "dockerImageVersionId": 30823,
   "isGpuEnabled": true,
   "isInternetEnabled": true,
   "language": "python",
   "sourceType": "notebook"
  },
  "kernelspec": {
   "display_name": "Python 3",
   "language": "python",
   "name": "python3"
  },
  "language_info": {
   "codemirror_mode": {
    "name": "ipython",
    "version": 3
   },
   "file_extension": ".py",
   "mimetype": "text/x-python",
   "name": "python",
   "nbconvert_exporter": "python",
   "pygments_lexer": "ipython3",
   "version": "3.10.12"
  },
  "papermill": {
   "default_parameters": {},
   "duration": 1175.260803,
   "end_time": "2025-03-02T18:22:19.023409",
   "environment_variables": {},
   "exception": true,
   "input_path": "__notebook__.ipynb",
   "output_path": "__notebook__.ipynb",
   "parameters": {},
   "start_time": "2025-03-02T18:02:43.762606",
   "version": "2.6.0"
  }
 },
 "nbformat": 4,
 "nbformat_minor": 5
}
